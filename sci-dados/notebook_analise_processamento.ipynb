{
 "cells": [
  {
   "cell_type": "code",
   "execution_count": 1,
   "metadata": {},
   "outputs": [],
   "source": [
    "import pandas as pd\n",
    "import numpy as np\n",
    "import matplotlib.pyplot as plt"
   ]
  },
  {
   "cell_type": "code",
   "execution_count": 2,
   "metadata": {},
   "outputs": [],
   "source": [
    "df_prices = pd.read_csv(\"../eng-dados/DATASET-PRICES.csv\", sep='\\t')\n",
    "df_durations = pd.read_csv(\"../eng-dados/DATASET-DURATIONS.csv\", sep='\\t')"
   ]
  },
  {
   "cell_type": "code",
   "execution_count": 3,
   "metadata": {},
   "outputs": [
    {
     "data": {
      "text/html": [
       "<div>\n",
       "<style scoped>\n",
       "    .dataframe tbody tr th:only-of-type {\n",
       "        vertical-align: middle;\n",
       "    }\n",
       "\n",
       "    .dataframe tbody tr th {\n",
       "        vertical-align: top;\n",
       "    }\n",
       "\n",
       "    .dataframe thead th {\n",
       "        text-align: right;\n",
       "    }\n",
       "</style>\n",
       "<table border=\"1\" class=\"dataframe\">\n",
       "  <thead>\n",
       "    <tr style=\"text-align: right;\">\n",
       "      <th></th>\n",
       "      <th>ROUTE_ID</th>\n",
       "      <th>SUBDISTRICT_ID_ORIGIN</th>\n",
       "      <th>CITY_ORIGIN</th>\n",
       "      <th>SUBDISTRICT_ID_DESTINATION</th>\n",
       "      <th>CITY_DESTINATION</th>\n",
       "      <th>MODAL</th>\n",
       "      <th>SERVICE</th>\n",
       "      <th>PRICE</th>\n",
       "      <th>KM_CATEGORY</th>\n",
       "      <th>CAPTURE_TIME</th>\n",
       "      <th>IMAGE_ID</th>\n",
       "    </tr>\n",
       "  </thead>\n",
       "  <tbody>\n",
       "    <tr>\n",
       "      <th>0</th>\n",
       "      <td>355030815000030355030815000057</td>\n",
       "      <td>355030815000030</td>\n",
       "      <td>CAMPO-BELO</td>\n",
       "      <td>355030815000057</td>\n",
       "      <td>CAMPO-BELO</td>\n",
       "      <td>ridesharing</td>\n",
       "      <td>99Pop</td>\n",
       "      <td>810</td>\n",
       "      <td>2.0</td>\n",
       "      <td>2020-08-02 03:18:21</td>\n",
       "      <td>./volume_sp/images/app/app_v0_R9XMC05G2VY_2.0_...</td>\n",
       "    </tr>\n",
       "    <tr>\n",
       "      <th>1</th>\n",
       "      <td>355030815000030355030815000057</td>\n",
       "      <td>355030815000030</td>\n",
       "      <td>CAMPO-BELO</td>\n",
       "      <td>355030815000057</td>\n",
       "      <td>CAMPO-BELO</td>\n",
       "      <td>ridesharing</td>\n",
       "      <td>99Comfort</td>\n",
       "      <td>1130</td>\n",
       "      <td>2.0</td>\n",
       "      <td>2020-08-02 03:18:21</td>\n",
       "      <td>./volume_sp/images/app/app_v0_R9XMC05G2VY_2.0_...</td>\n",
       "    </tr>\n",
       "    <tr>\n",
       "      <th>2</th>\n",
       "      <td>355030815000030355030815000057</td>\n",
       "      <td>355030815000030</td>\n",
       "      <td>CAMPO-BELO</td>\n",
       "      <td>355030815000057</td>\n",
       "      <td>CAMPO-BELO</td>\n",
       "      <td>ridesharing</td>\n",
       "      <td>99Pop</td>\n",
       "      <td>740</td>\n",
       "      <td>2.0</td>\n",
       "      <td>2020-08-02 04:18:22</td>\n",
       "      <td>./volume_sp/images/app/app_v0_R9XMC05G2VY_2.0_...</td>\n",
       "    </tr>\n",
       "    <tr>\n",
       "      <th>3</th>\n",
       "      <td>355030815000030355030815000057</td>\n",
       "      <td>355030815000030</td>\n",
       "      <td>CAMPO-BELO</td>\n",
       "      <td>355030815000057</td>\n",
       "      <td>CAMPO-BELO</td>\n",
       "      <td>ridesharing</td>\n",
       "      <td>99Comfort</td>\n",
       "      <td>1130</td>\n",
       "      <td>2.0</td>\n",
       "      <td>2020-08-02 04:18:22</td>\n",
       "      <td>./volume_sp/images/app/app_v0_R9XMC05G2VY_2.0_...</td>\n",
       "    </tr>\n",
       "    <tr>\n",
       "      <th>4</th>\n",
       "      <td>355030815000030355030815000057</td>\n",
       "      <td>355030815000030</td>\n",
       "      <td>CAMPO-BELO</td>\n",
       "      <td>355030815000057</td>\n",
       "      <td>CAMPO-BELO</td>\n",
       "      <td>ridesharing</td>\n",
       "      <td>99Pop</td>\n",
       "      <td>680</td>\n",
       "      <td>2.0</td>\n",
       "      <td>2020-08-02 05:17:27</td>\n",
       "      <td>./volume_sp/images/app/app_v0_R9XMC05G2VY_2.0_...</td>\n",
       "    </tr>\n",
       "  </tbody>\n",
       "</table>\n",
       "</div>"
      ],
      "text/plain": [
       "                         ROUTE_ID  SUBDISTRICT_ID_ORIGIN CITY_ORIGIN  \\\n",
       "0  355030815000030355030815000057        355030815000030  CAMPO-BELO   \n",
       "1  355030815000030355030815000057        355030815000030  CAMPO-BELO   \n",
       "2  355030815000030355030815000057        355030815000030  CAMPO-BELO   \n",
       "3  355030815000030355030815000057        355030815000030  CAMPO-BELO   \n",
       "4  355030815000030355030815000057        355030815000030  CAMPO-BELO   \n",
       "\n",
       "   SUBDISTRICT_ID_DESTINATION CITY_DESTINATION        MODAL    SERVICE  PRICE  \\\n",
       "0             355030815000057       CAMPO-BELO  ridesharing      99Pop    810   \n",
       "1             355030815000057       CAMPO-BELO  ridesharing  99Comfort   1130   \n",
       "2             355030815000057       CAMPO-BELO  ridesharing      99Pop    740   \n",
       "3             355030815000057       CAMPO-BELO  ridesharing  99Comfort   1130   \n",
       "4             355030815000057       CAMPO-BELO  ridesharing      99Pop    680   \n",
       "\n",
       "   KM_CATEGORY         CAPTURE_TIME  \\\n",
       "0          2.0  2020-08-02 03:18:21   \n",
       "1          2.0  2020-08-02 03:18:21   \n",
       "2          2.0  2020-08-02 04:18:22   \n",
       "3          2.0  2020-08-02 04:18:22   \n",
       "4          2.0  2020-08-02 05:17:27   \n",
       "\n",
       "                                            IMAGE_ID  \n",
       "0  ./volume_sp/images/app/app_v0_R9XMC05G2VY_2.0_...  \n",
       "1  ./volume_sp/images/app/app_v0_R9XMC05G2VY_2.0_...  \n",
       "2  ./volume_sp/images/app/app_v0_R9XMC05G2VY_2.0_...  \n",
       "3  ./volume_sp/images/app/app_v0_R9XMC05G2VY_2.0_...  \n",
       "4  ./volume_sp/images/app/app_v0_R9XMC05G2VY_2.0_...  "
      ]
     },
     "execution_count": 3,
     "metadata": {},
     "output_type": "execute_result"
    }
   ],
   "source": [
    "df_prices.head()"
   ]
  },
  {
   "cell_type": "code",
   "execution_count": 4,
   "metadata": {},
   "outputs": [
    {
     "data": {
      "text/plain": [
       "ROUTE_ID                       object\n",
       "SUBDISTRICT_ID_ORIGIN           int64\n",
       "CITY_ORIGIN                    object\n",
       "SUBDISTRICT_ID_DESTINATION      int64\n",
       "CITY_DESTINATION               object\n",
       "MODAL                          object\n",
       "SERVICE                        object\n",
       "PRICE                           int64\n",
       "KM_CATEGORY                   float64\n",
       "CAPTURE_TIME                   object\n",
       "IMAGE_ID                       object\n",
       "dtype: object"
      ]
     },
     "execution_count": 4,
     "metadata": {},
     "output_type": "execute_result"
    }
   ],
   "source": [
    "df_prices.dtypes"
   ]
  },
  {
   "cell_type": "code",
   "execution_count": 5,
   "metadata": {},
   "outputs": [
    {
     "data": {
      "text/html": [
       "<div>\n",
       "<style scoped>\n",
       "    .dataframe tbody tr th:only-of-type {\n",
       "        vertical-align: middle;\n",
       "    }\n",
       "\n",
       "    .dataframe tbody tr th {\n",
       "        vertical-align: top;\n",
       "    }\n",
       "\n",
       "    .dataframe thead th {\n",
       "        text-align: right;\n",
       "    }\n",
       "</style>\n",
       "<table border=\"1\" class=\"dataframe\">\n",
       "  <thead>\n",
       "    <tr style=\"text-align: right;\">\n",
       "      <th></th>\n",
       "      <th>ROUTE_ID</th>\n",
       "      <th>SUBDISTRICT_ID_ORIGIN</th>\n",
       "      <th>CITY_ORIGIN</th>\n",
       "      <th>SUBDISTRICT_ID_DESTINATION</th>\n",
       "      <th>CITY_DESTINATION</th>\n",
       "      <th>MODAL</th>\n",
       "      <th>SERVICE</th>\n",
       "      <th>DURATION</th>\n",
       "      <th>KM_CATEGORY</th>\n",
       "      <th>CAPTURE_TIME</th>\n",
       "      <th>IMAGE_ID</th>\n",
       "    </tr>\n",
       "  </thead>\n",
       "  <tbody>\n",
       "    <tr>\n",
       "      <th>0</th>\n",
       "      <td>355030815000030355030815000057</td>\n",
       "      <td>355030815000030</td>\n",
       "      <td>CAMPO-BELO</td>\n",
       "      <td>355030815000057</td>\n",
       "      <td>CAMPO-BELO</td>\n",
       "      <td>ridesharing</td>\n",
       "      <td>99Pop</td>\n",
       "      <td>9.0</td>\n",
       "      <td>2.0</td>\n",
       "      <td>2020-08-02 03:18:21</td>\n",
       "      <td>./volume_sp/images/app/app_v0_R9XMC05G2VY_2.0_...</td>\n",
       "    </tr>\n",
       "    <tr>\n",
       "      <th>1</th>\n",
       "      <td>355030815000030355030815000057</td>\n",
       "      <td>355030815000030</td>\n",
       "      <td>CAMPO-BELO</td>\n",
       "      <td>355030815000057</td>\n",
       "      <td>CAMPO-BELO</td>\n",
       "      <td>ridesharing</td>\n",
       "      <td>99Comfort</td>\n",
       "      <td>9.0</td>\n",
       "      <td>2.0</td>\n",
       "      <td>2020-08-02 03:18:21</td>\n",
       "      <td>./volume_sp/images/app/app_v0_R9XMC05G2VY_2.0_...</td>\n",
       "    </tr>\n",
       "    <tr>\n",
       "      <th>2</th>\n",
       "      <td>355030815000030355030815000057</td>\n",
       "      <td>355030815000030</td>\n",
       "      <td>CAMPO-BELO</td>\n",
       "      <td>355030815000057</td>\n",
       "      <td>CAMPO-BELO</td>\n",
       "      <td>ridesharing</td>\n",
       "      <td>99Pop</td>\n",
       "      <td>9.0</td>\n",
       "      <td>2.0</td>\n",
       "      <td>2020-08-02 04:18:22</td>\n",
       "      <td>./volume_sp/images/app/app_v0_R9XMC05G2VY_2.0_...</td>\n",
       "    </tr>\n",
       "    <tr>\n",
       "      <th>3</th>\n",
       "      <td>355030815000030355030815000057</td>\n",
       "      <td>355030815000030</td>\n",
       "      <td>CAMPO-BELO</td>\n",
       "      <td>355030815000057</td>\n",
       "      <td>CAMPO-BELO</td>\n",
       "      <td>ridesharing</td>\n",
       "      <td>99Comfort</td>\n",
       "      <td>9.0</td>\n",
       "      <td>2.0</td>\n",
       "      <td>2020-08-02 04:18:22</td>\n",
       "      <td>./volume_sp/images/app/app_v0_R9XMC05G2VY_2.0_...</td>\n",
       "    </tr>\n",
       "    <tr>\n",
       "      <th>4</th>\n",
       "      <td>355030815000030355030815000057</td>\n",
       "      <td>355030815000030</td>\n",
       "      <td>CAMPO-BELO</td>\n",
       "      <td>355030815000057</td>\n",
       "      <td>CAMPO-BELO</td>\n",
       "      <td>ridesharing</td>\n",
       "      <td>99Pop</td>\n",
       "      <td>10.0</td>\n",
       "      <td>2.0</td>\n",
       "      <td>2020-08-02 05:17:27</td>\n",
       "      <td>./volume_sp/images/app/app_v0_R9XMC05G2VY_2.0_...</td>\n",
       "    </tr>\n",
       "  </tbody>\n",
       "</table>\n",
       "</div>"
      ],
      "text/plain": [
       "                         ROUTE_ID  SUBDISTRICT_ID_ORIGIN CITY_ORIGIN  \\\n",
       "0  355030815000030355030815000057        355030815000030  CAMPO-BELO   \n",
       "1  355030815000030355030815000057        355030815000030  CAMPO-BELO   \n",
       "2  355030815000030355030815000057        355030815000030  CAMPO-BELO   \n",
       "3  355030815000030355030815000057        355030815000030  CAMPO-BELO   \n",
       "4  355030815000030355030815000057        355030815000030  CAMPO-BELO   \n",
       "\n",
       "   SUBDISTRICT_ID_DESTINATION CITY_DESTINATION        MODAL    SERVICE  \\\n",
       "0             355030815000057       CAMPO-BELO  ridesharing      99Pop   \n",
       "1             355030815000057       CAMPO-BELO  ridesharing  99Comfort   \n",
       "2             355030815000057       CAMPO-BELO  ridesharing      99Pop   \n",
       "3             355030815000057       CAMPO-BELO  ridesharing  99Comfort   \n",
       "4             355030815000057       CAMPO-BELO  ridesharing      99Pop   \n",
       "\n",
       "   DURATION  KM_CATEGORY         CAPTURE_TIME  \\\n",
       "0       9.0          2.0  2020-08-02 03:18:21   \n",
       "1       9.0          2.0  2020-08-02 03:18:21   \n",
       "2       9.0          2.0  2020-08-02 04:18:22   \n",
       "3       9.0          2.0  2020-08-02 04:18:22   \n",
       "4      10.0          2.0  2020-08-02 05:17:27   \n",
       "\n",
       "                                            IMAGE_ID  \n",
       "0  ./volume_sp/images/app/app_v0_R9XMC05G2VY_2.0_...  \n",
       "1  ./volume_sp/images/app/app_v0_R9XMC05G2VY_2.0_...  \n",
       "2  ./volume_sp/images/app/app_v0_R9XMC05G2VY_2.0_...  \n",
       "3  ./volume_sp/images/app/app_v0_R9XMC05G2VY_2.0_...  \n",
       "4  ./volume_sp/images/app/app_v0_R9XMC05G2VY_2.0_...  "
      ]
     },
     "execution_count": 5,
     "metadata": {},
     "output_type": "execute_result"
    }
   ],
   "source": [
    "df_durations.head()"
   ]
  },
  {
   "cell_type": "code",
   "execution_count": 6,
   "metadata": {},
   "outputs": [
    {
     "data": {
      "text/plain": [
       "ROUTE_ID                       object\n",
       "SUBDISTRICT_ID_ORIGIN           int64\n",
       "CITY_ORIGIN                    object\n",
       "SUBDISTRICT_ID_DESTINATION      int64\n",
       "CITY_DESTINATION               object\n",
       "MODAL                          object\n",
       "SERVICE                        object\n",
       "DURATION                      float64\n",
       "KM_CATEGORY                   float64\n",
       "CAPTURE_TIME                   object\n",
       "IMAGE_ID                       object\n",
       "dtype: object"
      ]
     },
     "execution_count": 6,
     "metadata": {},
     "output_type": "execute_result"
    }
   ],
   "source": [
    "df_durations.dtypes"
   ]
  },
  {
   "cell_type": "markdown",
   "metadata": {},
   "source": [
    "#  Converter preços em centavos para real"
   ]
  },
  {
   "cell_type": "code",
   "execution_count": 7,
   "metadata": {},
   "outputs": [],
   "source": [
    "df_prices['PRICE'] = df_prices['PRICE'].apply(lambda x: x/100)"
   ]
  },
  {
   "cell_type": "markdown",
   "metadata": {},
   "source": [
    "# Distribuição de Preços"
   ]
  },
  {
   "cell_type": "markdown",
   "metadata": {},
   "source": [
    "# Verificar a variades de serviços Coletados"
   ]
  },
  {
   "cell_type": "code",
   "execution_count": 8,
   "metadata": {},
   "outputs": [
    {
     "data": {
      "image/png": "[encoded data removed]",
      "text/plain": [
       "<Figure size 1008x576 with 1 Axes>"
      ]
     },
     "metadata": {
      "needs_background": "light"
     },
     "output_type": "display_data"
    }
   ],
   "source": [
    "ax = df_prices['SERVICE'].value_counts().plot(kind='bar',\n",
    "                                    figsize=(14,8),\n",
    "                                    title=\"Número de instâncias para cada serviço\")\n",
    "ax.set_xlabel(\"Nome dos Serviços\");\n",
    "ax.set_ylabel(\"Frequência\");"
   ]
  },
  {
   "cell_type": "markdown",
   "metadata": {},
   "source": [
    "# Verificar a variades de Categorias de KM Coletados"
   ]
  },
  {
   "cell_type": "code",
   "execution_count": 9,
   "metadata": {},
   "outputs": [
    {
     "data": {
      "image/png": "[encoded data removed]",
      "text/plain": [
       "<Figure size 1008x576 with 1 Axes>"
      ]
     },
     "metadata": {
      "needs_background": "light"
     },
     "output_type": "display_data"
    }
   ],
   "source": [
    "ax = df_prices['KM_CATEGORY'].value_counts().sort_index().plot(kind='bar',\n",
    "                                    figsize=(14,8),\n",
    "                                    title=\"Número de instâncias para categoria de KM\")\n",
    "ax.set_xlabel(\"KM\");\n",
    "ax.set_ylabel(\"Frequência\");"
   ]
  },
  {
   "cell_type": "markdown",
   "metadata": {},
   "source": [
    "# Existe alguma categoria de KM que não foi coletada na região ?"
   ]
  },
  {
   "cell_type": "code",
   "execution_count": 10,
   "metadata": {},
   "outputs": [
    {
     "data": {
      "text/plain": [
       "set()"
      ]
     },
     "execution_count": 10,
     "metadata": {},
     "output_type": "execute_result"
    }
   ],
   "source": [
    "set(df_prices['KM_CATEGORY']) - set(np.arange (min(df_prices['KM_CATEGORY']), max(df_prices['KM_CATEGORY'])+1, 0.5))"
   ]
  },
  {
   "cell_type": "markdown",
   "metadata": {},
   "source": [
    "# Definir Categoria de KM em Curtas, Médias e Longas Distancias"
   ]
  },
  {
   "cell_type": "code",
   "execution_count": 11,
   "metadata": {},
   "outputs": [],
   "source": [
    "km_curta_distances = [i for i in set(df_prices['KM_CATEGORY']) if i < 6]\n",
    "km_media_distances = [i for i in set(df_prices['KM_CATEGORY']) if i > 6 and i < 11]\n",
    "km_longa_distances = [i for i in set(df_prices['KM_CATEGORY']) if i > 11]"
   ]
  },
  {
   "cell_type": "code",
   "execution_count": 12,
   "metadata": {},
   "outputs": [
    {
     "name": "stdout",
     "output_type": "stream",
     "text": [
      "[0.5, 1.5, 2.0, 3.5, 2.5, 4.0, 4.5, 3.0, 5.5, 5.0, 1.0]\n"
     ]
    }
   ],
   "source": [
    "print(km_curta_distances)"
   ]
  },
  {
   "cell_type": "code",
   "execution_count": 13,
   "metadata": {},
   "outputs": [
    {
     "name": "stdout",
     "output_type": "stream",
     "text": [
      "[7.5, 6.5, 8.5, 10.5, 8.0, 10.0, 7.0, 9.0, 9.5]\n"
     ]
    }
   ],
   "source": [
    "print(km_media_distances)"
   ]
  },
  {
   "cell_type": "code",
   "execution_count": 14,
   "metadata": {},
   "outputs": [
    {
     "name": "stdout",
     "output_type": "stream",
     "text": [
      "[12.5, 17.0, 12.0, 11.5, 14.0, 13.0, 14.5, 15.0, 13.5]\n"
     ]
    }
   ],
   "source": [
    "print(km_longa_distances)"
   ]
  },
  {
   "cell_type": "markdown",
   "metadata": {},
   "source": [
    "# Qual é a média de preços dos Serviços para Curtas, Médias e Longas Distancias ?"
   ]
  },
  {
   "cell_type": "markdown",
   "metadata": {},
   "source": [
    "# Curta Distâncias"
   ]
  },
  {
   "cell_type": "code",
   "execution_count": 15,
   "metadata": {},
   "outputs": [
    {
     "data": {
      "text/plain": [
       "<matplotlib.axes._subplots.AxesSubplot at 0x7fdfdc78ae90>"
      ]
     },
     "execution_count": 15,
     "metadata": {},
     "output_type": "execute_result"
    },
    {
     "data": {
      "image/png": "[encoded data removed]",
      "text/plain": [
       "<Figure size 432x288 with 1 Axes>"
      ]
     },
     "metadata": {
      "needs_background": "light"
     },
     "output_type": "display_data"
    }
   ],
   "source": [
    "df_mean_prices_ser = df_prices[df_prices.KM_CATEGORY.isin(km_curta_distances)][['KM_CATEGORY', 'SERVICE', 'PRICE']].groupby('SERVICE').mean()\n",
    "df_mean_prices_ser['PRICE'].sort_values().plot(kind='bar')"
   ]
  },
  {
   "cell_type": "markdown",
   "metadata": {},
   "source": [
    "# Média Distâncias"
   ]
  },
  {
   "cell_type": "code",
   "execution_count": 16,
   "metadata": {},
   "outputs": [
    {
     "data": {
      "text/plain": [
       "<matplotlib.axes._subplots.AxesSubplot at 0x7fdfb1f20ad0>"
      ]
     },
     "execution_count": 16,
     "metadata": {},
     "output_type": "execute_result"
    },
    {
     "data": {
      "image/png": "[encoded data removed]",
      "text/plain": [
       "<Figure size 432x288 with 1 Axes>"
      ]
     },
     "metadata": {
      "needs_background": "light"
     },
     "output_type": "display_data"
    }
   ],
   "source": [
    "df_mean_prices_ser = df_prices[df_prices.KM_CATEGORY.isin(km_media_distances)][['KM_CATEGORY', 'SERVICE', 'PRICE']].groupby('SERVICE').mean()\n",
    "df_mean_prices_ser['PRICE'].sort_values().plot(kind='bar')"
   ]
  },
  {
   "cell_type": "markdown",
   "metadata": {},
   "source": [
    "# Longa Distâncias"
   ]
  },
  {
   "cell_type": "code",
   "execution_count": 17,
   "metadata": {},
   "outputs": [
    {
     "data": {
      "text/plain": [
       "<matplotlib.axes._subplots.AxesSubplot at 0x7fdfb1e31550>"
      ]
     },
     "execution_count": 17,
     "metadata": {},
     "output_type": "execute_result"
    },
    {
     "data": {
      "image/png": "[encoded data removed]",
      "text/plain": [
       "<Figure size 432x288 with 1 Axes>"
      ]
     },
     "metadata": {
      "needs_background": "light"
     },
     "output_type": "display_data"
    }
   ],
   "source": [
    "df_mean_prices_ser = df_prices[df_prices.KM_CATEGORY.isin(km_longa_distances)][['KM_CATEGORY', 'SERVICE', 'PRICE']].groupby('SERVICE').mean()\n",
    "df_mean_prices_ser['PRICE'].sort_values().plot(kind='bar')"
   ]
  },
  {
   "cell_type": "markdown",
   "metadata": {},
   "source": [
    "# Como é a distribuição de preços mínima e máxima para curtas, médias e longas distancias ?"
   ]
  },
  {
   "cell_type": "code",
   "execution_count": 18,
   "metadata": {},
   "outputs": [
    {
     "data": {
      "text/plain": [
       "<matplotlib.axes._subplots.AxesSubplot at 0x7fdfb20bb510>"
      ]
     },
     "execution_count": 18,
     "metadata": {},
     "output_type": "execute_result"
    },
    {
     "data": {
      "image/png": "[encoded data removed]",
      "text/plain": [
       "<Figure size 432x288 with 1 Axes>"
      ]
     },
     "metadata": {
      "needs_background": "light"
     },
     "output_type": "display_data"
    }
   ],
   "source": [
    "df_min_prices_ser = df_prices[df_prices.KM_CATEGORY.isin(km_curta_distances)][['KM_CATEGORY', 'SERVICE', 'PRICE']].groupby('SERVICE').min()\n",
    "df_min_prices_ser['PRICE'].plot(kind='bar')"
   ]
  },
  {
   "cell_type": "code",
   "execution_count": 19,
   "metadata": {},
   "outputs": [
    {
     "data": {
      "text/plain": [
       "<matplotlib.axes._subplots.AxesSubplot at 0x7fdfb1d79f90>"
      ]
     },
     "execution_count": 19,
     "metadata": {},
     "output_type": "execute_result"
    },
    {
     "data": {
      "image/png": "[encoded data removed]",
      "text/plain": [
       "<Figure size 432x288 with 1 Axes>"
      ]
     },
     "metadata": {
      "needs_background": "light"
     },
     "output_type": "display_data"
    }
   ],
   "source": [
    "df_max_prices_ser = df_prices[df_prices.KM_CATEGORY.isin(km_curta_distances)][['KM_CATEGORY', 'SERVICE', 'PRICE']].groupby('SERVICE').max()\n",
    "df_max_prices_ser['PRICE'].plot(kind='bar')"
   ]
  },
  {
   "cell_type": "markdown",
   "metadata": {},
   "source": [
    "# Como é a distribuição de tempo de entrega mínima e máxima para curtas, médias e longas distancias ?"
   ]
  },
  {
   "cell_type": "code",
   "execution_count": 20,
   "metadata": {},
   "outputs": [
    {
     "data": {
      "text/plain": [
       "<matplotlib.axes._subplots.AxesSubplot at 0x7fdfb1d00a90>"
      ]
     },
     "execution_count": 20,
     "metadata": {},
     "output_type": "execute_result"
    },
    {
     "data": {
      "image/png": "[encoded data removed]",
      "text/plain": [
       "<Figure size 432x288 with 1 Axes>"
      ]
     },
     "metadata": {
      "needs_background": "light"
     },
     "output_type": "display_data"
    }
   ],
   "source": [
    "df_min_duration_ser = df_durations[df_durations.KM_CATEGORY.isin(km_curta_distances)][['KM_CATEGORY', 'SERVICE', 'DURATION']].groupby('SERVICE').min()\n",
    "df_min_duration_ser['DURATION'].plot(kind='bar')"
   ]
  },
  {
   "cell_type": "code",
   "execution_count": 21,
   "metadata": {},
   "outputs": [
    {
     "data": {
      "text/plain": [
       "<matplotlib.axes._subplots.AxesSubplot at 0x7fdfb1c22750>"
      ]
     },
     "execution_count": 21,
     "metadata": {},
     "output_type": "execute_result"
    },
    {
     "data": {
      "image/png": "[encoded data removed]",
      "text/plain": [
       "<Figure size 432x288 with 1 Axes>"
      ]
     },
     "metadata": {
      "needs_background": "light"
     },
     "output_type": "display_data"
    }
   ],
   "source": [
    "df_max_duration_ser = df_durations[df_durations.KM_CATEGORY.isin(km_curta_distances)][['KM_CATEGORY', 'SERVICE', 'DURATION']].groupby('SERVICE').max()\n",
    "df_max_duration_ser['DURATION'].plot(kind='bar')"
   ]
  },
  {
   "cell_type": "markdown",
   "metadata": {},
   "source": [
    "# Remover outliers com base na média das distâncias por km"
   ]
  },
  {
   "cell_type": "code",
   "execution_count": 22,
   "metadata": {},
   "outputs": [],
   "source": [
    "def filter_data(df, type_c):\n",
    "    km_categories = set(df.KM_CATEGORY)\n",
    "    services = set(df.SERVICE)\n",
    "\n",
    "    frames_filtered = []\n",
    "    frames_erros = []\n",
    "\n",
    "    df[type_c] = pd.to_numeric(df[type_c], errors='coerce')\n",
    "    df = df.dropna()\n",
    "\n",
    "    if type_c == \"PRICE\":\n",
    "        df = df[(df['PRICE'].astype(int) < 10000)]\n",
    "\n",
    "    for km in km_categories:\n",
    "        for ser in services:\n",
    "            df_stats = df.groupby([\"KM_CATEGORY\", \"SERVICE\"]).mean().reset_index()\n",
    "            mu = float(df_stats[(df_stats.KM_CATEGORY==km)&(df_stats.SERVICE==ser)][type_c].mean())\n",
    "            df_ser_filtered = df[(df.KM_CATEGORY==km)&(df.SERVICE==ser)&((df[type_c] < 2*mu)&(df[type_c] > mu/2))]\n",
    "            df_ser_errors = df[(df.KM_CATEGORY==km)&(df.SERVICE==ser)&((df[type_c] > 2*mu)|(df[type_c] < mu/2))]\n",
    "\n",
    "            frames_filtered.append(df_ser_filtered)\n",
    "            frames_erros.append(df_ser_errors)\n",
    "\n",
    "    df_good = pd.concat(frames_filtered)\n",
    "\n",
    "    df_bad = pd.concat(frames_erros)\n",
    "    return df_good"
   ]
  },
  {
   "cell_type": "code",
   "execution_count": 23,
   "metadata": {},
   "outputs": [],
   "source": [
    "df_prices_filtered = filter_data(df_prices, 'PRICE')\n",
    "df_durations_filtered = filter_data(df_durations, 'DURATION')"
   ]
  },
  {
   "cell_type": "markdown",
   "metadata": {},
   "source": [
    "# Verificar novamente os preços máximas depois de remover os outliers"
   ]
  },
  {
   "cell_type": "markdown",
   "metadata": {},
   "source": [
    "# Antes"
   ]
  },
  {
   "cell_type": "code",
   "execution_count": 24,
   "metadata": {},
   "outputs": [
    {
     "data": {
      "text/plain": [
       "<matplotlib.axes._subplots.AxesSubplot at 0x7fdfb1b87510>"
      ]
     },
     "execution_count": 24,
     "metadata": {},
     "output_type": "execute_result"
    },
    {
     "data": {
      "image/png": "[encoded data removed]",
      "text/plain": [
       "<Figure size 432x288 with 1 Axes>"
      ]
     },
     "metadata": {
      "needs_background": "light"
     },
     "output_type": "display_data"
    }
   ],
   "source": [
    "df_max_prices_ser = df_prices[df_prices.KM_CATEGORY.isin(km_curta_distances)][['KM_CATEGORY', 'SERVICE', 'PRICE']].groupby('SERVICE').max()\n",
    "df_max_prices_ser['PRICE'].plot(kind='bar')"
   ]
  },
  {
   "cell_type": "markdown",
   "metadata": {},
   "source": [
    "# Depois"
   ]
  },
  {
   "cell_type": "code",
   "execution_count": 25,
   "metadata": {},
   "outputs": [
    {
     "data": {
      "text/plain": [
       "<matplotlib.axes._subplots.AxesSubplot at 0x7fdfb19cc3d0>"
      ]
     },
     "execution_count": 25,
     "metadata": {},
     "output_type": "execute_result"
    },
    {
     "data": {
      "image/png": "[encoded data removed]",
      "text/plain": [
       "<Figure size 432x288 with 1 Axes>"
      ]
     },
     "metadata": {
      "needs_background": "light"
     },
     "output_type": "display_data"
    }
   ],
   "source": [
    "df_max_price_filtered = df_prices_filtered[df_prices_filtered.KM_CATEGORY.isin(km_curta_distances)][['KM_CATEGORY', 'SERVICE', 'PRICE']].groupby('SERVICE').max()\n",
    "df_max_price_filtered['PRICE'].plot(kind='bar')"
   ]
  },
  {
   "cell_type": "markdown",
   "metadata": {},
   "source": [
    "# Verificar novamente as durações máximas depois de remover os outliers"
   ]
  },
  {
   "cell_type": "markdown",
   "metadata": {},
   "source": [
    "# Antes"
   ]
  },
  {
   "cell_type": "code",
   "execution_count": 26,
   "metadata": {},
   "outputs": [
    {
     "data": {
      "text/plain": [
       "<matplotlib.axes._subplots.AxesSubplot at 0x7fdfb15f6c50>"
      ]
     },
     "execution_count": 26,
     "metadata": {},
     "output_type": "execute_result"
    },
    {
     "data": {
      "image/png": "[encoded data removed]",
      "text/plain": [
       "<Figure size 432x288 with 1 Axes>"
      ]
     },
     "metadata": {
      "needs_background": "light"
     },
     "output_type": "display_data"
    }
   ],
   "source": [
    "df_max_duration_ser = df_durations[df_durations.KM_CATEGORY.isin(km_curta_distances)][['KM_CATEGORY', 'SERVICE', 'DURATION']].groupby('SERVICE').max()\n",
    "df_max_duration_ser['DURATION'].plot(kind='bar')"
   ]
  },
  {
   "cell_type": "markdown",
   "metadata": {},
   "source": [
    "# Depois"
   ]
  },
  {
   "cell_type": "code",
   "execution_count": 27,
   "metadata": {},
   "outputs": [
    {
     "data": {
      "text/plain": [
       "<matplotlib.axes._subplots.AxesSubplot at 0x7fdfb1f3b550>"
      ]
     },
     "execution_count": 27,
     "metadata": {},
     "output_type": "execute_result"
    },
    {
     "data": {
      "image/png": "[encoded data removed]",
      "text/plain": [
       "<Figure size 432x288 with 1 Axes>"
      ]
     },
     "metadata": {
      "needs_background": "light"
     },
     "output_type": "display_data"
    }
   ],
   "source": [
    "df_max_duration_filtered = df_durations_filtered[df_durations_filtered.KM_CATEGORY.isin(km_curta_distances)][['KM_CATEGORY', 'SERVICE', 'DURATION']].groupby('SERVICE').max()\n",
    "df_max_duration_filtered['DURATION'].plot(kind='bar')"
   ]
  },
  {
   "cell_type": "markdown",
   "metadata": {},
   "source": [
    "# Selecionar os serviços que são representativos para ser os preços da entrega"
   ]
  },
  {
   "cell_type": "code",
   "execution_count": 28,
   "metadata": {},
   "outputs": [],
   "source": [
    "df_prices_filtered_ser = df_prices_filtered[df_prices_filtered.SERVICE.isin(['99Pop','99Taxi','UberFlash', 'UberX', 'UberJuntos'])]"
   ]
  },
  {
   "cell_type": "code",
   "execution_count": 29,
   "metadata": {},
   "outputs": [],
   "source": [
    "df_durations_filtered.SERVICE = df_durations_filtered.SERVICE.apply(lambda x: 'motocycle' if x == 'mocycle' else x)"
   ]
  },
  {
   "cell_type": "code",
   "execution_count": 30,
   "metadata": {},
   "outputs": [
    {
     "name": "stderr",
     "output_type": "stream",
     "text": [
      "/home/douglas/anaconda3/lib/python3.7/site-packages/pandas/core/indexing.py:965: SettingWithCopyWarning: \n",
      "A value is trying to be set on a copy of a slice from a DataFrame.\n",
      "Try using .loc[row_indexer,col_indexer] = value instead\n",
      "\n",
      "See the caveats in the documentation: https://pandas.pydata.org/pandas-docs/stable/user_guide/indexing.html#returning-a-view-versus-a-copy\n",
      "  self.obj[item] = s\n"
     ]
    }
   ],
   "source": [
    "df_durations_a = df_durations_filtered[df_durations_filtered.SERVICE.isin(['99Pop','99Taxi','UberFlash', 'UberX', 'UberJuntos'])]\n",
    "df_durations_a.loc[:,\"SERVICE\"] = \"car\"\n",
    "                                                                                      \n",
    "df_durations_b = df_durations_filtered[df_durations_filtered.SERVICE.isin(['car', 'motocycle', 'bicycle'])]\n",
    "df_durations_filtered_ser = pd.concat([df_durations_a, df_durations_b])"
   ]
  },
  {
   "cell_type": "code",
   "execution_count": 31,
   "metadata": {},
   "outputs": [],
   "source": [
    "df_durations_aux = df_durations_filtered_ser[['SUBDISTRICT_ID_ORIGIN', 'CITY_ORIGIN', 'KM_CATEGORY', 'SERVICE','DURATION']]"
   ]
  },
  {
   "cell_type": "code",
   "execution_count": 32,
   "metadata": {},
   "outputs": [],
   "source": [
    "df_durations_selected_aux = pd.pivot_table(df_durations_aux, values=['DURATION'], index=['SUBDISTRICT_ID_ORIGIN', 'KM_CATEGORY'],\n",
    "                    columns=['SERVICE'], aggfunc={'DURATION': np.mean})"
   ]
  },
  {
   "cell_type": "code",
   "execution_count": 33,
   "metadata": {},
   "outputs": [],
   "source": [
    "df_durations_selected_aux.columns = ['_'.join(col).upper() for col in df_durations_selected_aux.columns]"
   ]
  },
  {
   "cell_type": "code",
   "execution_count": 34,
   "metadata": {},
   "outputs": [],
   "source": [
    "df_durations_selected_aux = df_durations_selected_aux.reset_index()"
   ]
  },
  {
   "cell_type": "code",
   "execution_count": 35,
   "metadata": {},
   "outputs": [],
   "source": [
    "df_prices_selected = df_prices_filtered_ser[['SUBDISTRICT_ID_ORIGIN', 'CITY_ORIGIN', 'KM_CATEGORY', 'PRICE']]"
   ]
  },
  {
   "cell_type": "code",
   "execution_count": 36,
   "metadata": {},
   "outputs": [],
   "source": [
    "df_prices_duration = df_prices_selected.merge(df_durations_selected_aux[['SUBDISTRICT_ID_ORIGIN','KM_CATEGORY', 'DURATION_BICYCLE','DURATION_CAR', 'DURATION_MOTOCYCLE']], on=['SUBDISTRICT_ID_ORIGIN','KM_CATEGORY'])"
   ]
  },
  {
   "cell_type": "code",
   "execution_count": 37,
   "metadata": {},
   "outputs": [],
   "source": [
    "df_prices_duration = df_prices_duration.rename(columns={'PRICE':'TAX_PRICE', 'SUBDISTRICT_ID_ORIGIN':'SUBDISTRICT_ID'})"
   ]
  },
  {
   "cell_type": "markdown",
   "metadata": {},
   "source": [
    "# Consolidar os dados por ponto de coleta e modal"
   ]
  },
  {
   "cell_type": "code",
   "execution_count": 38,
   "metadata": {},
   "outputs": [],
   "source": [
    "df_prices_duration = df_prices_duration.groupby(['SUBDISTRICT_ID','KM_CATEGORY']).mean()\n",
    "df_prices_duration = df_prices_duration.reset_index()\n",
    "df_prices_duration = df_prices_duration.dropna()"
   ]
  },
  {
   "cell_type": "code",
   "execution_count": 39,
   "metadata": {},
   "outputs": [
    {
     "data": {
      "text/plain": [
       "Index(['SUBDISTRICT_ID', 'KM_CATEGORY', 'TAX_PRICE', 'DURATION_BICYCLE',\n",
       "       'DURATION_CAR', 'DURATION_MOTOCYCLE'],\n",
       "      dtype='object')"
      ]
     },
     "execution_count": 39,
     "metadata": {},
     "output_type": "execute_result"
    }
   ],
   "source": [
    "df_prices_duration.columns"
   ]
  },
  {
   "cell_type": "code",
   "execution_count": 40,
   "metadata": {},
   "outputs": [],
   "source": [
    "df_prices_duration_car = df_prices_duration[['SUBDISTRICT_ID', 'KM_CATEGORY', 'TAX_PRICE', 'DURATION_CAR']].rename(columns={'DURATION_CAR':'DURATION'})\n",
    "df_prices_duration_bike = df_prices_duration[['SUBDISTRICT_ID', 'KM_CATEGORY', 'TAX_PRICE', 'DURATION_BICYCLE']].rename(columns={'DURATION_BICYCLE':'DURATION'})\n",
    "df_prices_duration_moto = df_prices_duration[['SUBDISTRICT_ID', 'KM_CATEGORY', 'TAX_PRICE', 'DURATION_MOTOCYCLE']].rename(columns={'DURATION_MOTOCYCLE':'DURATION'})"
   ]
  },
  {
   "cell_type": "markdown",
   "metadata": {},
   "source": [
    "# Adicionar os custo de operação por modal"
   ]
  },
  {
   "cell_type": "code",
   "execution_count": 41,
   "metadata": {},
   "outputs": [],
   "source": [
    "preco_car_popular = 25000\n",
    "preco_moto_popular = 5000\n",
    "preco_bike_popular = 1000\n",
    "preco_combustivel = 4.5"
   ]
  },
  {
   "cell_type": "code",
   "execution_count": 42,
   "metadata": {},
   "outputs": [],
   "source": [
    "preco_car_per_km = (((2*5*365*1)/11)*4.5)/(2*5*365*5) + (preco_car_popular*0.2)/(2*5*365*5) + (preco_car_popular*0.1)/(2*5*365*5)\n",
    "preco_moto_per_km = (((2*5*365*1)/11)*4.5)/(2*5*365*5) + (preco_moto_popular*0.2)/(2*5*365*5) + (preco_moto_popular*0.1)/(2*5*365*5)\n",
    "preco_bike_per_km =  (preco_bike_popular*0.2)/(2*5*365*5) + (preco_bike_popular*0.1)/(2*5*365*5)"
   ]
  },
  {
   "cell_type": "code",
   "execution_count": 43,
   "metadata": {},
   "outputs": [
    {
     "data": {
      "text/plain": [
       "0.4927770859277708"
      ]
     },
     "execution_count": 43,
     "metadata": {},
     "output_type": "execute_result"
    }
   ],
   "source": [
    "preco_car_per_km"
   ]
  },
  {
   "cell_type": "code",
   "execution_count": 44,
   "metadata": {},
   "outputs": [
    {
     "data": {
      "text/plain": [
       "0.16400996264009962"
      ]
     },
     "execution_count": 44,
     "metadata": {},
     "output_type": "execute_result"
    }
   ],
   "source": [
    "preco_moto_per_km"
   ]
  },
  {
   "cell_type": "code",
   "execution_count": 45,
   "metadata": {},
   "outputs": [
    {
     "data": {
      "text/plain": [
       "0.016438356164383564"
      ]
     },
     "execution_count": 45,
     "metadata": {},
     "output_type": "execute_result"
    }
   ],
   "source": [
    "preco_bike_per_km"
   ]
  },
  {
   "cell_type": "markdown",
   "metadata": {},
   "source": [
    "10 Entregas de 5km ao dia durante 5 dias da semana por 1 ano (365 dias)  \n",
    "carro popular 11 km por litro  \n",
    "moto popular 50 km por litro  \n",
    "combustivel 4.5"
   ]
  },
  {
   "cell_type": "code",
   "execution_count": 46,
   "metadata": {},
   "outputs": [],
   "source": [
    "df_prices_duration_car[\"OPERATIONAL_COST\"] = df_prices_duration_car['KM_CATEGORY'].apply(lambda x: preco_car_per_km*x)\n",
    "df_prices_duration_moto[\"OPERATIONAL_COST\"] = df_prices_duration_moto['KM_CATEGORY'].apply(lambda x: preco_moto_per_km*x)\n",
    "df_prices_duration_bike[\"OPERATIONAL_COST\"] = df_prices_duration_bike['KM_CATEGORY'].apply(lambda x: preco_bike_per_km*x)"
   ]
  },
  {
   "cell_type": "markdown",
   "metadata": {},
   "source": [
    "# Datasets analisados e tratados"
   ]
  },
  {
   "cell_type": "code",
   "execution_count": 47,
   "metadata": {},
   "outputs": [
    {
     "data": {
      "text/html": [
       "<div>\n",
       "<style scoped>\n",
       "    .dataframe tbody tr th:only-of-type {\n",
       "        vertical-align: middle;\n",
       "    }\n",
       "\n",
       "    .dataframe tbody tr th {\n",
       "        vertical-align: top;\n",
       "    }\n",
       "\n",
       "    .dataframe thead th {\n",
       "        text-align: right;\n",
       "    }\n",
       "</style>\n",
       "<table border=\"1\" class=\"dataframe\">\n",
       "  <thead>\n",
       "    <tr style=\"text-align: right;\">\n",
       "      <th></th>\n",
       "      <th>SUBDISTRICT_ID</th>\n",
       "      <th>KM_CATEGORY</th>\n",
       "      <th>TAX_PRICE</th>\n",
       "      <th>DURATION</th>\n",
       "      <th>OPERATIONAL_COST</th>\n",
       "    </tr>\n",
       "  </thead>\n",
       "  <tbody>\n",
       "    <tr>\n",
       "      <th>0</th>\n",
       "      <td>355030815000030</td>\n",
       "      <td>2.0</td>\n",
       "      <td>7.312229</td>\n",
       "      <td>6.523810</td>\n",
       "      <td>0.985554</td>\n",
       "    </tr>\n",
       "    <tr>\n",
       "      <th>1</th>\n",
       "      <td>355030815000030</td>\n",
       "      <td>2.5</td>\n",
       "      <td>7.469388</td>\n",
       "      <td>8.170732</td>\n",
       "      <td>1.231943</td>\n",
       "    </tr>\n",
       "    <tr>\n",
       "      <th>2</th>\n",
       "      <td>355030815000030</td>\n",
       "      <td>3.0</td>\n",
       "      <td>8.408416</td>\n",
       "      <td>8.695652</td>\n",
       "      <td>1.478331</td>\n",
       "    </tr>\n",
       "    <tr>\n",
       "      <th>3</th>\n",
       "      <td>355030815000030</td>\n",
       "      <td>3.5</td>\n",
       "      <td>8.393926</td>\n",
       "      <td>9.793103</td>\n",
       "      <td>1.724720</td>\n",
       "    </tr>\n",
       "    <tr>\n",
       "      <th>4</th>\n",
       "      <td>355030815000030</td>\n",
       "      <td>4.0</td>\n",
       "      <td>12.246667</td>\n",
       "      <td>13.411765</td>\n",
       "      <td>1.971108</td>\n",
       "    </tr>\n",
       "  </tbody>\n",
       "</table>\n",
       "</div>"
      ],
      "text/plain": [
       "    SUBDISTRICT_ID  KM_CATEGORY  TAX_PRICE   DURATION  OPERATIONAL_COST\n",
       "0  355030815000030          2.0   7.312229   6.523810          0.985554\n",
       "1  355030815000030          2.5   7.469388   8.170732          1.231943\n",
       "2  355030815000030          3.0   8.408416   8.695652          1.478331\n",
       "3  355030815000030          3.5   8.393926   9.793103          1.724720\n",
       "4  355030815000030          4.0  12.246667  13.411765          1.971108"
      ]
     },
     "execution_count": 47,
     "metadata": {},
     "output_type": "execute_result"
    }
   ],
   "source": [
    "df_prices_duration_car.to_csv(\"TAXA_CAR.csv\",sep='\\t')\n",
    "df_prices_duration_car.head()"
   ]
  },
  {
   "cell_type": "code",
   "execution_count": 48,
   "metadata": {},
   "outputs": [
    {
     "data": {
      "text/html": [
       "<div>\n",
       "<style scoped>\n",
       "    .dataframe tbody tr th:only-of-type {\n",
       "        vertical-align: middle;\n",
       "    }\n",
       "\n",
       "    .dataframe tbody tr th {\n",
       "        vertical-align: top;\n",
       "    }\n",
       "\n",
       "    .dataframe thead th {\n",
       "        text-align: right;\n",
       "    }\n",
       "</style>\n",
       "<table border=\"1\" class=\"dataframe\">\n",
       "  <thead>\n",
       "    <tr style=\"text-align: right;\">\n",
       "      <th></th>\n",
       "      <th>SUBDISTRICT_ID</th>\n",
       "      <th>KM_CATEGORY</th>\n",
       "      <th>TAX_PRICE</th>\n",
       "      <th>DURATION</th>\n",
       "      <th>OPERATIONAL_COST</th>\n",
       "    </tr>\n",
       "  </thead>\n",
       "  <tbody>\n",
       "    <tr>\n",
       "      <th>0</th>\n",
       "      <td>355030815000030</td>\n",
       "      <td>2.0</td>\n",
       "      <td>7.312229</td>\n",
       "      <td>5.000000</td>\n",
       "      <td>0.032877</td>\n",
       "    </tr>\n",
       "    <tr>\n",
       "      <th>1</th>\n",
       "      <td>355030815000030</td>\n",
       "      <td>2.5</td>\n",
       "      <td>7.469388</td>\n",
       "      <td>4.500000</td>\n",
       "      <td>0.041096</td>\n",
       "    </tr>\n",
       "    <tr>\n",
       "      <th>2</th>\n",
       "      <td>355030815000030</td>\n",
       "      <td>3.0</td>\n",
       "      <td>8.408416</td>\n",
       "      <td>6.333333</td>\n",
       "      <td>0.049315</td>\n",
       "    </tr>\n",
       "    <tr>\n",
       "      <th>3</th>\n",
       "      <td>355030815000030</td>\n",
       "      <td>3.5</td>\n",
       "      <td>8.393926</td>\n",
       "      <td>8.000000</td>\n",
       "      <td>0.057534</td>\n",
       "    </tr>\n",
       "    <tr>\n",
       "      <th>4</th>\n",
       "      <td>355030815000030</td>\n",
       "      <td>4.0</td>\n",
       "      <td>12.246667</td>\n",
       "      <td>10.800000</td>\n",
       "      <td>0.065753</td>\n",
       "    </tr>\n",
       "  </tbody>\n",
       "</table>\n",
       "</div>"
      ],
      "text/plain": [
       "    SUBDISTRICT_ID  KM_CATEGORY  TAX_PRICE   DURATION  OPERATIONAL_COST\n",
       "0  355030815000030          2.0   7.312229   5.000000          0.032877\n",
       "1  355030815000030          2.5   7.469388   4.500000          0.041096\n",
       "2  355030815000030          3.0   8.408416   6.333333          0.049315\n",
       "3  355030815000030          3.5   8.393926   8.000000          0.057534\n",
       "4  355030815000030          4.0  12.246667  10.800000          0.065753"
      ]
     },
     "execution_count": 48,
     "metadata": {},
     "output_type": "execute_result"
    }
   ],
   "source": [
    "df_prices_duration_bike.to_csv(\"TAXA_BIKE.csv\",sep='\\t')\n",
    "df_prices_duration_bike.head()"
   ]
  },
  {
   "cell_type": "code",
   "execution_count": 49,
   "metadata": {},
   "outputs": [
    {
     "data": {
      "text/html": [
       "<div>\n",
       "<style scoped>\n",
       "    .dataframe tbody tr th:only-of-type {\n",
       "        vertical-align: middle;\n",
       "    }\n",
       "\n",
       "    .dataframe tbody tr th {\n",
       "        vertical-align: top;\n",
       "    }\n",
       "\n",
       "    .dataframe thead th {\n",
       "        text-align: right;\n",
       "    }\n",
       "</style>\n",
       "<table border=\"1\" class=\"dataframe\">\n",
       "  <thead>\n",
       "    <tr style=\"text-align: right;\">\n",
       "      <th></th>\n",
       "      <th>SUBDISTRICT_ID</th>\n",
       "      <th>KM_CATEGORY</th>\n",
       "      <th>TAX_PRICE</th>\n",
       "      <th>DURATION</th>\n",
       "      <th>OPERATIONAL_COST</th>\n",
       "    </tr>\n",
       "  </thead>\n",
       "  <tbody>\n",
       "    <tr>\n",
       "      <th>0</th>\n",
       "      <td>355030815000030</td>\n",
       "      <td>2.0</td>\n",
       "      <td>7.312229</td>\n",
       "      <td>3.857143</td>\n",
       "      <td>0.328020</td>\n",
       "    </tr>\n",
       "    <tr>\n",
       "      <th>1</th>\n",
       "      <td>355030815000030</td>\n",
       "      <td>2.5</td>\n",
       "      <td>7.469388</td>\n",
       "      <td>5.111111</td>\n",
       "      <td>0.410025</td>\n",
       "    </tr>\n",
       "    <tr>\n",
       "      <th>2</th>\n",
       "      <td>355030815000030</td>\n",
       "      <td>3.0</td>\n",
       "      <td>8.408416</td>\n",
       "      <td>5.916667</td>\n",
       "      <td>0.492030</td>\n",
       "    </tr>\n",
       "    <tr>\n",
       "      <th>3</th>\n",
       "      <td>355030815000030</td>\n",
       "      <td>3.5</td>\n",
       "      <td>8.393926</td>\n",
       "      <td>6.117647</td>\n",
       "      <td>0.574035</td>\n",
       "    </tr>\n",
       "    <tr>\n",
       "      <th>4</th>\n",
       "      <td>355030815000030</td>\n",
       "      <td>4.0</td>\n",
       "      <td>12.246667</td>\n",
       "      <td>8.250000</td>\n",
       "      <td>0.656040</td>\n",
       "    </tr>\n",
       "  </tbody>\n",
       "</table>\n",
       "</div>"
      ],
      "text/plain": [
       "    SUBDISTRICT_ID  KM_CATEGORY  TAX_PRICE  DURATION  OPERATIONAL_COST\n",
       "0  355030815000030          2.0   7.312229  3.857143          0.328020\n",
       "1  355030815000030          2.5   7.469388  5.111111          0.410025\n",
       "2  355030815000030          3.0   8.408416  5.916667          0.492030\n",
       "3  355030815000030          3.5   8.393926  6.117647          0.574035\n",
       "4  355030815000030          4.0  12.246667  8.250000          0.656040"
      ]
     },
     "execution_count": 49,
     "metadata": {},
     "output_type": "execute_result"
    }
   ],
   "source": [
    "df_prices_duration_moto.to_csv(\"TAXA_MOTO.csv\",sep='\\t')\n",
    "df_prices_duration_moto.head()"
   ]
  },
  {
   "cell_type": "markdown",
   "metadata": {},
   "source": [
    "# Processar localizações para a visualização"
   ]
  },
  {
   "cell_type": "code",
   "execution_count": 53,
   "metadata": {},
   "outputs": [],
   "source": [
    "df_locations = pd.read_csv('../eng-dados/volume_sp/data/locations.csv',sep='\\t')"
   ]
  },
  {
   "cell_type": "code",
   "execution_count": 57,
   "metadata": {},
   "outputs": [],
   "source": [
    "def convert_text2lnglat(text):\n",
    "    text = str(text)\n",
    "    text_list = text.split(',')\n",
    "    text_list = [float(x) for x in text_list]\n",
    "    return text_list\n",
    "\n",
    "def convert_textlist2polygon(text):\n",
    "    list_x = text.replace(\"],\",\";\").replace(\"[\",\"\").replace(\"]\",\"\").replace(\" \",\"\").split(\";\")\n",
    "    return [convert_text2lnglat(y) for y in list_x]"
   ]
  },
  {
   "cell_type": "code",
   "execution_count": 58,
   "metadata": {},
   "outputs": [],
   "source": [
    "df_locations.SECTOR_CENTROID = df_locations.SECTOR_CENTROID.apply(lambda x: convert_textlist2polygon(x))"
   ]
  },
  {
   "cell_type": "code",
   "execution_count": 62,
   "metadata": {},
   "outputs": [],
   "source": [
    "df_locations[\"LONGITUDE\"] = df_locations.SECTOR_CENTROID.apply(lambda x: x[0][0])\n",
    "df_locations[\"LATITUDE\"] = df_locations.SECTOR_CENTROID.apply(lambda x: x[0][1])"
   ]
  },
  {
   "cell_type": "code",
   "execution_count": 64,
   "metadata": {},
   "outputs": [],
   "source": [
    "df_locations.to_csv(\"LOCATIONS.csv\",sep='\\t')"
   ]
  }
 ],
 "metadata": {
  "kernelspec": {
   "display_name": "Python 3",
   "language": "python",
   "name": "python3"
  },
  "language_info": {
   "codemirror_mode": {
    "name": "ipython",
    "version": 3
   },
   "file_extension": ".py",
   "mimetype": "text/x-python",
   "name": "python",
   "nbconvert_exporter": "python",
   "pygments_lexer": "ipython3",
   "version": "3.7.6"
  }
 },
 "nbformat": 4,
 "nbformat_minor": 4
}
