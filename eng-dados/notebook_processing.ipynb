{
 "cells": [
  {
   "cell_type": "code",
   "execution_count": 1,
   "metadata": {},
   "outputs": [],
   "source": [
    "import processing\n",
    "import glob\n",
    "import pandas as pd"
   ]
  },
  {
   "cell_type": "code",
   "execution_count": 2,
   "metadata": {},
   "outputs": [],
   "source": [
    "city='sp'\n",
    "data_path = \"./volume_\"+city+\"/data/\"\n",
    "dataset_path = \"./dataset/\"\n",
    "maps_path = \"./volume_\"+city+\"/maps/\"\n",
    "images_path = \"./volume_\"+city+\"/images/\"\n",
    "logs_path = \"./volume_\"+city+\"/logs/\""
   ]
  },
  {
   "cell_type": "code",
   "execution_count": 3,
   "metadata": {},
   "outputs": [
    {
     "name": "stderr",
     "output_type": "stream",
     "text": [
      "100%|██████████| 2193/2193 [48:25<00:00,  1.32s/it] \n",
      "100%|██████████| 1502/1502 [12:22<00:00,  2.02it/s]\n",
      "100%|██████████| 3755/3755 [09:27<00:00,  6.61it/s]\n"
     ]
    }
   ],
   "source": [
    "app_files = glob.glob(images_path+'app'+'/*.png')\n",
    "df_app_price, df_app_duration = processing.batch_process_app(images_path, logs_path)\n",
    "app_est_files = glob.glob(images_path+'app_est'+'/*.png')\n",
    "df_appest_price = processing.batch_process_appest(images_path, logs_path)\n",
    "modals_files = glob.glob(images_path+'modal'+'/*.png')\n",
    "df_modal_duration, df_modal_distance = processing.batch_process_modal(images_path, logs_path)"
   ]
  },
  {
   "cell_type": "code",
   "execution_count": 4,
   "metadata": {},
   "outputs": [],
   "source": [
    "df_prices = pd.concat([df_app_price, df_appest_price])\n",
    "df_durations = pd.concat([df_app_duration, df_modal_duration])\n",
    "df_distances = df_modal_distance"
   ]
  },
  {
   "cell_type": "code",
   "execution_count": 5,
   "metadata": {},
   "outputs": [],
   "source": [
    "files = app_files+app_est_files+modals_files"
   ]
  },
  {
   "cell_type": "code",
   "execution_count": 6,
   "metadata": {},
   "outputs": [],
   "source": [
    "df_prices.to_csv(\"TMP-PRICES.csv\", sep='\\t', index=False)\n",
    "df_durations.to_csv(\"TMP-DURATIONS.csv\", sep='\\t', index=False)\n",
    "df_distances.to_csv(\"TMP-DISTANCES.csv\", sep='\\t', index=False)"
   ]
  },
  {
   "cell_type": "code",
   "execution_count": 7,
   "metadata": {},
   "outputs": [],
   "source": [
    "df_new_prices, df_new_durations, df_new_distances = processing.filter_dump_files(data_path, dataset_path, df_prices, df_durations, df_distances, files, False)"
   ]
  },
  {
   "cell_type": "code",
   "execution_count": 8,
   "metadata": {},
   "outputs": [],
   "source": [
    "df_new_prices.to_csv(\"DATASET-PRICES.csv\", sep='\\t', index=False)\n",
    "df_new_durations.to_csv(\"DATASET-DURATIONS.csv\", sep='\\t', index=False)"
   ]
  }
 ],
 "metadata": {
  "kernelspec": {
   "display_name": "Python 3",
   "language": "python",
   "name": "python3"
  },
  "language_info": {
   "codemirror_mode": {
    "name": "ipython",
    "version": 3
   },
   "file_extension": ".py",
   "mimetype": "text/x-python",
   "name": "python",
   "nbconvert_exporter": "python",
   "pygments_lexer": "ipython3",
   "version": "3.7.6"
  }
 },
 "nbformat": 4,
 "nbformat_minor": 4
}
