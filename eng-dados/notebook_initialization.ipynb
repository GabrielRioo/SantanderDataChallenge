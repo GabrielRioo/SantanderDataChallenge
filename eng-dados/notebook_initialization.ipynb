{
 "cells": [
  {
   "cell_type": "code",
   "execution_count": 1,
   "metadata": {},
   "outputs": [],
   "source": [
    "import maps\n",
    "import locations\n",
    "import routes"
   ]
  },
  {
   "cell_type": "code",
   "execution_count": 2,
   "metadata": {},
   "outputs": [],
   "source": [
    "city='sp'\n",
    "data_path = \"./volume_\"+city+\"/data/\"\n",
    "maps_path = \"./volume_\"+city+\"/maps/\""
   ]
  },
  {
   "cell_type": "code",
   "execution_count": 3,
   "metadata": {},
   "outputs": [
    {
     "name": "stderr",
     "output_type": "stream",
     "text": [
      "100%|██████████| 3/3 [00:00<00:00,  7.46it/s]\n"
     ]
    }
   ],
   "source": [
    "maps.batch_log2kml(\"./volume_\"+city+\"/maps/\",\"*.log\")"
   ]
  },
  {
   "cell_type": "code",
   "execution_count": 4,
   "metadata": {},
   "outputs": [],
   "source": [
    "df_locations, df_sectors = locations.create_locations(data_path, maps_path)"
   ]
  },
  {
   "cell_type": "code",
   "execution_count": 5,
   "metadata": {},
   "outputs": [],
   "source": [
    "df_routes = routes.create_routes(data_path, df_locations)"
   ]
  },
  {
   "cell_type": "code",
   "execution_count": 6,
   "metadata": {},
   "outputs": [
    {
     "name": "stdout",
     "output_type": "stream",
     "text": [
      "  % Total    % Received % Xferd  Average Speed   Time    Time     Time  Current\n",
      "                                 Dload  Upload   Total   Spent    Left  Speed\n",
      "100  526M  100  526M    0     0   442k      0  0:20:18  0:20:18 --:--:--  388kk      0  0:22:22  0:01:40  0:20:42  445k:45  0:04:59  0:16:46  392k  0:21:49  0:05:21  0:16:28  396k4  0:14:58  391k1:06  0:09:16  0:11:50  269k0:09:36  0:11:28  441k12:38  0:07:31  422k7  0:14:10  0:05:57  701k20:09  0:17:48  0:02:21  440k8:57  0:01:20  472k  0:19:41  0:00:35  404k\n"
     ]
    }
   ],
   "source": [
    "!mkdir osrm-server\n",
    "!curl \"http://download.geofabrik.de/south-america/brazil/sudeste-latest.osm.pbf\" --output \"./osrm-server/sudeste-latest.osm.pbf\""
   ]
  }
 ],
 "metadata": {
  "kernelspec": {
   "display_name": "Python 3",
   "language": "python",
   "name": "python3"
  },
  "language_info": {
   "codemirror_mode": {
    "name": "ipython",
    "version": 3
   },
   "file_extension": ".py",
   "mimetype": "text/x-python",
   "name": "python",
   "nbconvert_exporter": "python",
   "pygments_lexer": "ipython3",
   "version": "3.7.6"
  }
 },
 "nbformat": 4,
 "nbformat_minor": 4
}
